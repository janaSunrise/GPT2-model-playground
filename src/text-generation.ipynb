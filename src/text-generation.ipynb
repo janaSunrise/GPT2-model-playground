{
 "cells": [
  {
   "cell_type": "code",
   "execution_count": 1,
   "id": "reported-finance",
   "metadata": {},
   "outputs": [
    {
     "data": {
      "text/plain": [
       "'\\nIn text generation (a.k.a open-ended text generation) the goal is to create a coherent portion of text that is \\na continuation from the given context. The following example shows how GPT-2 can be used in pipelines to generate \\ntext. As a default all models apply Top-K sampling when used in pipelines, as configured in their respective \\nconfigurations (see GPT2 config for example).\\n\\nGPT2 config: https://s3.amazonaws.com/models.huggingface.co/bert/gpt2-config.json\\n'"
      ]
     },
     "execution_count": 1,
     "metadata": {},
     "output_type": "execute_result"
    }
   ],
   "source": [
    "\"\"\"\n",
    "In text generation (a.k.a open-ended text generation) the goal is to create a coherent portion of text that is \n",
    "a continuation from the given context. The following example shows how GPT-2 can be used in pipelines to generate \n",
    "text. As a default all models apply Top-K sampling when used in pipelines, as configured in their respective \n",
    "configurations (see GPT2 config for example).\n",
    "\n",
    "GPT2 config: https://s3.amazonaws.com/models.huggingface.co/bert/gpt2-config.json\n",
    "\"\"\""
   ]
  },
  {
   "cell_type": "code",
   "execution_count": 2,
   "id": "loose-anniversary",
   "metadata": {},
   "outputs": [],
   "source": [
    "from transformers import pipeline"
   ]
  },
  {
   "cell_type": "code",
   "execution_count": null,
   "id": "minimal-japanese",
   "metadata": {},
   "outputs": [
    {
     "data": {
      "application/vnd.jupyter.widget-view+json": {
       "model_id": "9d3eaeb5d3594eeb81c37895527f4303",
       "version_major": 2,
       "version_minor": 0
      },
      "text/plain": [
       "Downloading:   0%|          | 0.00/665 [00:00<?, ?B/s]"
      ]
     },
     "metadata": {},
     "output_type": "display_data"
    },
    {
     "data": {
      "application/vnd.jupyter.widget-view+json": {
       "model_id": "8e4a35b0555740388072815f91633423",
       "version_major": 2,
       "version_minor": 0
      },
      "text/plain": [
       "Downloading:   0%|          | 0.00/548M [00:00<?, ?B/s]"
      ]
     },
     "metadata": {},
     "output_type": "display_data"
    }
   ],
   "source": [
    "MAX_LENGTH = 50\n",
    "\n",
    "text_generator = pipeline(\"text-generation\")"
   ]
  },
  {
   "cell_type": "code",
   "execution_count": null,
   "id": "composite-humidity",
   "metadata": {},
   "outputs": [],
   "source": [
    "print(\n",
    "    text_generator(\"As far as I am concerned, I will\", max_length=MAX_LENGTH, do_sample=False)\n",
    ")  # Generate the text"
   ]
  }
 ],
 "metadata": {
  "kernelspec": {
   "display_name": "Python 3",
   "language": "python",
   "name": "python3"
  },
  "language_info": {
   "codemirror_mode": {
    "name": "ipython",
    "version": 3
   },
   "file_extension": ".py",
   "mimetype": "text/x-python",
   "name": "python",
   "nbconvert_exporter": "python",
   "pygments_lexer": "ipython3",
   "version": "3.8.5"
  }
 },
 "nbformat": 4,
 "nbformat_minor": 5
}
