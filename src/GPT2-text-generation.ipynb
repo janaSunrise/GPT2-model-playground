{
 "cells": [
  {
   "cell_type": "code",
   "execution_count": 1,
   "id": "governing-composition",
   "metadata": {},
   "outputs": [],
   "source": [
    "import random\n",
    "\n",
    "from transformers import pipeline, set_seed"
   ]
  },
  {
   "cell_type": "code",
   "execution_count": 2,
   "id": "declared-clothing",
   "metadata": {},
   "outputs": [
    {
     "name": "stderr",
     "output_type": "stream",
     "text": [
      "Some weights of GPT2Model were not initialized from the model checkpoint at gpt2 and are newly initialized: ['h.0.attn.masked_bias', 'h.1.attn.masked_bias', 'h.2.attn.masked_bias', 'h.3.attn.masked_bias', 'h.4.attn.masked_bias', 'h.5.attn.masked_bias', 'h.6.attn.masked_bias', 'h.7.attn.masked_bias', 'h.8.attn.masked_bias', 'h.9.attn.masked_bias', 'h.10.attn.masked_bias', 'h.11.attn.masked_bias']\n",
      "You should probably TRAIN this model on a down-stream task to be able to use it for predictions and inference.\n"
     ]
    }
   ],
   "source": [
    "# Create the Text generation generator, using pretrained GPT 2\n",
    "generator = pipeline('text-generation', model='gpt2')"
   ]
  },
  {
   "cell_type": "code",
   "execution_count": 3,
   "id": "stock-healing",
   "metadata": {},
   "outputs": [],
   "source": [
    "set_seed(random.randint(1, 100))  #Set the generation seed"
   ]
  },
  {
   "cell_type": "code",
   "execution_count": 8,
   "id": "talented-shirt",
   "metadata": {},
   "outputs": [
    {
     "name": "stderr",
     "output_type": "stream",
     "text": [
      "Setting `pad_token_id` to `eos_token_id`:50256 for open-end generation.\n"
     ]
    },
    {
     "data": {
      "text/plain": [
       "[{'generated_text': 'I would love to help you with the documentation or'},\n",
       " {'generated_text': 'I would love to help you with any questions or'},\n",
       " {'generated_text': 'I would love to help you with creating and sharing'},\n",
       " {'generated_text': 'I would love to help you with any question you'},\n",
       " {'generated_text': 'I would love to help you with this, though'}]"
      ]
     },
     "execution_count": 8,
     "metadata": {},
     "output_type": "execute_result"
    }
   ],
   "source": [
    "generator(\"I would love to help you with\", max_length=10, num_return_sequences=5)"
   ]
  },
  {
   "cell_type": "code",
   "execution_count": 7,
   "id": "asian-tenant",
   "metadata": {},
   "outputs": [
    {
     "name": "stderr",
     "output_type": "stream",
     "text": [
      "Setting `pad_token_id` to `eos_token_id`:50256 for open-end generation.\n"
     ]
    },
    {
     "data": {
      "text/plain": [
       "[{'generated_text': 'The White man worked as a truck driver in a'},\n",
       " {'generated_text': 'The White man worked as a waitress in a nearby'},\n",
       " {'generated_text': 'The White man worked as a journalist. \"I'},\n",
       " {'generated_text': 'The White man worked as a chef and an executive'},\n",
       " {'generated_text': 'The White man worked as a housekeeper with the'}]"
      ]
     },
     "execution_count": 7,
     "metadata": {},
     "output_type": "execute_result"
    }
   ],
   "source": [
    "generator(\"The White man worked as a\", max_length=10, num_return_sequences=5)"
   ]
  },
  {
   "cell_type": "code",
   "execution_count": null,
   "id": "fancy-assets",
   "metadata": {},
   "outputs": [],
   "source": []
  }
 ],
 "metadata": {
  "kernelspec": {
   "display_name": "Python 3",
   "language": "python",
   "name": "python3"
  },
  "language_info": {
   "codemirror_mode": {
    "name": "ipython",
    "version": 3
   },
   "file_extension": ".py",
   "mimetype": "text/x-python",
   "name": "python",
   "nbconvert_exporter": "python",
   "pygments_lexer": "ipython3",
   "version": "3.8.5"
  }
 },
 "nbformat": 4,
 "nbformat_minor": 5
}
