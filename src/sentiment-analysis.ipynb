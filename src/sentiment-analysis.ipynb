{
 "cells": [
  {
   "cell_type": "code",
   "execution_count": 1,
   "id": "floating-theta",
   "metadata": {},
   "outputs": [],
   "source": [
    "from transformers import pipeline"
   ]
  },
  {
   "cell_type": "code",
   "execution_count": 2,
   "id": "saving-national",
   "metadata": {},
   "outputs": [],
   "source": [
    "nlp = pipeline(\"sentiment-analysis\")  # Use the NLP model, for sentiment analysis inbuilt into the library"
   ]
  },
  {
   "cell_type": "code",
   "execution_count": 3,
   "id": "collective-montgomery",
   "metadata": {},
   "outputs": [],
   "source": [
    "sentences = [\n",
    "    \"I love you\",\n",
    "    \"The movie was pretty bad\",\n",
    "    \"I didn't get the time to visit you\",\n",
    "    \"Sorry, I didn't expect that to happen\"\n",
    "]"
   ]
  },
  {
   "cell_type": "code",
   "execution_count": 4,
   "id": "naughty-hollow",
   "metadata": {},
   "outputs": [],
   "source": [
    "def get_sentiment(sentence):\n",
    "    result = nlp(sentence)[0]  # Get the first element of the predictions\n",
    "    \n",
    "    label = result['label']\n",
    "    score = round(result['score'], 3)  # Round the accuracy to 3 decimals\n",
    "    \n",
    "    return label, score"
   ]
  },
  {
   "cell_type": "code",
   "execution_count": 5,
   "id": "revised-sequence",
   "metadata": {},
   "outputs": [
    {
     "name": "stdout",
     "output_type": "stream",
     "text": [
      "POSITIVE with the accuracy of 1.0\n",
      "NEGATIVE with the accuracy of 1.0\n",
      "NEGATIVE with the accuracy of 0.99\n",
      "NEGATIVE with the accuracy of 0.978\n"
     ]
    }
   ],
   "source": [
    "for sentence in sentences:\n",
    "    label, score = get_sentiment(sentence)\n",
    "    \n",
    "    print(f\"{label} with the accuracy of {score}\")"
   ]
  },
  {
   "cell_type": "code",
   "execution_count": null,
   "id": "surrounded-appliance",
   "metadata": {},
   "outputs": [],
   "source": []
  }
 ],
 "metadata": {
  "kernelspec": {
   "display_name": "Python 3",
   "language": "python",
   "name": "python3"
  },
  "language_info": {
   "codemirror_mode": {
    "name": "ipython",
    "version": 3
   },
   "file_extension": ".py",
   "mimetype": "text/x-python",
   "name": "python",
   "nbconvert_exporter": "python",
   "pygments_lexer": "ipython3",
   "version": "3.8.5"
  }
 },
 "nbformat": 4,
 "nbformat_minor": 5
}
