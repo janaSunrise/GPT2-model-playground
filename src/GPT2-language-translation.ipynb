{
 "cells": [
  {
   "cell_type": "code",
   "execution_count": 1,
   "id": "combined-diagnosis",
   "metadata": {},
   "outputs": [],
   "source": [
    "from transformers import pipeline"
   ]
  },
  {
   "cell_type": "code",
   "execution_count": 2,
   "id": "compatible-corps",
   "metadata": {},
   "outputs": [
    {
     "data": {
      "application/vnd.jupyter.widget-view+json": {
       "model_id": "ccf69b166380468bafb9ccbf14e34edc",
       "version_major": 2,
       "version_minor": 0
      },
      "text/plain": [
       "Downloading:   0%|          | 0.00/1.20k [00:00<?, ?B/s]"
      ]
     },
     "metadata": {},
     "output_type": "display_data"
    },
    {
     "data": {
      "application/vnd.jupyter.widget-view+json": {
       "model_id": "51190faf2033440fbbaee6a837498b39",
       "version_major": 2,
       "version_minor": 0
      },
      "text/plain": [
       "Downloading:   0%|          | 0.00/892M [00:00<?, ?B/s]"
      ]
     },
     "metadata": {},
     "output_type": "display_data"
    },
    {
     "data": {
      "application/vnd.jupyter.widget-view+json": {
       "model_id": "89f5fbfd920b4947b0de449878895281",
       "version_major": 2,
       "version_minor": 0
      },
      "text/plain": [
       "Downloading:   0%|          | 0.00/792k [00:00<?, ?B/s]"
      ]
     },
     "metadata": {},
     "output_type": "display_data"
    },
    {
     "data": {
      "application/vnd.jupyter.widget-view+json": {
       "model_id": "c66572de05fc4189b664a00b41188816",
       "version_major": 2,
       "version_minor": 0
      },
      "text/plain": [
       "Downloading:   0%|          | 0.00/1.39M [00:00<?, ?B/s]"
      ]
     },
     "metadata": {},
     "output_type": "display_data"
    }
   ],
   "source": [
    "# Create the translator for converting the languages\n",
    "translator = pipeline(\"translation_en_to_fr\")"
   ]
  },
  {
   "cell_type": "code",
   "execution_count": 3,
   "id": "buried-investigation",
   "metadata": {},
   "outputs": [
    {
     "name": "stdout",
     "output_type": "stream",
     "text": [
      "[{'translation_text': \"J'aime manger et faire des aventures!\"}]\n"
     ]
    }
   ],
   "source": [
    "print(translator(\"I love eating and going on adventures!\"))"
   ]
  },
  {
   "cell_type": "code",
   "execution_count": 4,
   "id": "independent-mother",
   "metadata": {},
   "outputs": [
    {
     "name": "stdout",
     "output_type": "stream",
     "text": [
      "[{'translation_text': \"Je n'ai pas beaucoup d'argent, mais si je le faisais, j'achèterais une grande maison où nous pourrions tous les deux vivre.\"}]\n"
     ]
    }
   ],
   "source": [
    "print(translator(\"I don't have much money, but, boy, if I did I'd buy a big house where we both could live\"))"
   ]
  },
  {
   "cell_type": "code",
   "execution_count": 5,
   "id": "headed-arlington",
   "metadata": {},
   "outputs": [
    {
     "name": "stdout",
     "output_type": "stream",
     "text": [
      "[{'translation_text': \"Quoi qu'il en soit, ce que je veux vraiment dire, c'est que vos yeux sont les plus douces que j'ai jamais vus.\"}]\n"
     ]
    }
   ],
   "source": [
    "print(translator(\"Anyway, the thing is, what I really mean yours are the sweetest eyes I've ever seen\"))"
   ]
  },
  {
   "cell_type": "code",
   "execution_count": null,
   "id": "attended-nirvana",
   "metadata": {},
   "outputs": [],
   "source": []
  }
 ],
 "metadata": {
  "kernelspec": {
   "display_name": "Python 3",
   "language": "python",
   "name": "python3"
  },
  "language_info": {
   "codemirror_mode": {
    "name": "ipython",
    "version": 3
   },
   "file_extension": ".py",
   "mimetype": "text/x-python",
   "name": "python",
   "nbconvert_exporter": "python",
   "pygments_lexer": "ipython3",
   "version": "3.8.5"
  }
 },
 "nbformat": 4,
 "nbformat_minor": 5
}
